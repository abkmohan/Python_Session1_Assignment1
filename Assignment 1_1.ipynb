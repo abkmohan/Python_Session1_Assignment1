{
 "cells": [
  {
   "cell_type": "code",
   "execution_count": 22,
   "metadata": {},
   "outputs": [
    {
     "name": "stdout",
     "output_type": "stream",
     "text": [
      "Objects in Python and syntax to declare\n",
      "---------------------------------------\n",
      "    1. number: aInt=1\n",
      "    2. string: aStr='My first assignment in Python'\n",
      "    3. list: aList=[10,'Python',20,'Tableau']\n",
      "    4. tuple (readonly list): aTuple=(1,'Java',2,'C++')\n",
      "    5. dictionary (key-Value Pair): aDict = {'chapter1': 10  , 'chapter2':20 , 'chapter3':30 }\n",
      "    6. set: aSet={100,200,300}\n",
      "\n",
      "Examples String methods\n",
      "   All upper case:  GIRIDHAR CONDUCTED FIRST PYTHON SESSION\n",
      "   All lower case:  giridhar conducted first python session\n"
     ]
    }
   ],
   "source": [
    "#Course: Data Science Masters\n",
    "#Title: Python - Session 1 - Assignment 1.1 - Run the first program and share the screenshot of the output.\n",
    "#Tool: Jupyter notebook \n",
    "#Author: Krishna A\n",
    "#Date: 2-2-2018 (DD/MM/YYYY)\n",
    "#Description: Topics covered in Python Session 1\n",
    "\n",
    "print(\"Objects in Python and syntax to declare\\n---------------------------------------\")\n",
    "print(\"    1. number: aInt=1\")\n",
    "print(\"    2. string: aStr='My first assignment in Python'\")\n",
    "print(\"    3. list: aList=[10,'Python',20,'Tableau']\")\n",
    "print(\"    4. tuple (readonly list): aTuple=(1,'Java',2,'C++')\")\n",
    "print(\"    5. dictionary (key-Value Pair): aDict = {'chapter1': 10  , 'chapter2':20 , 'chapter3':30 }\")\n",
    "print(\"    6. set: aSet={100,200,300}\")\n",
    "\n",
    "print(\"\\nExamples String methods\")\n",
    "sStr=\"Giridhar conducted first Python session\"\n",
    "print(\"   All upper case: \", sStr.upper())\n",
    "print(\"   All lower case: \", sStr.lower())\n"
   ]
  },
  {
   "cell_type": "code",
   "execution_count": null,
   "metadata": {
    "collapsed": true
   },
   "outputs": [],
   "source": []
  }
 ],
 "metadata": {
  "kernelspec": {
   "display_name": "Python 3",
   "language": "python",
   "name": "python3"
  },
  "language_info": {
   "codemirror_mode": {
    "name": "ipython",
    "version": 3
   },
   "file_extension": ".py",
   "mimetype": "text/x-python",
   "name": "python",
   "nbconvert_exporter": "python",
   "pygments_lexer": "ipython3",
   "version": "3.6.3"
  }
 },
 "nbformat": 4,
 "nbformat_minor": 2
}
